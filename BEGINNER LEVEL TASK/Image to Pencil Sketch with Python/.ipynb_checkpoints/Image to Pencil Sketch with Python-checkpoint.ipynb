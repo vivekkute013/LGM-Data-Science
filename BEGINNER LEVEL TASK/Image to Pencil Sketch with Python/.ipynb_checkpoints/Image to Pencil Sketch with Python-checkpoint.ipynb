{
 "cells": [
  {
   "cell_type": "markdown",
   "id": "6006203e",
   "metadata": {},
   "source": [
    "***Importing Libraries***"
   ]
  },
  {
   "cell_type": "code",
   "execution_count": 1,
   "id": "0ae1b54c",
   "metadata": {},
   "outputs": [],
   "source": [
    "import cv2"
   ]
  },
  {
   "cell_type": "markdown",
   "id": "546d61dd",
   "metadata": {},
   "source": [
    "# Reading the original image"
   ]
  },
  {
   "cell_type": "code",
   "execution_count": 2,
   "id": "c4361018",
   "metadata": {},
   "outputs": [],
   "source": [
    "image = cv2.imread('dog.jpg')"
   ]
  },
  {
   "cell_type": "markdown",
   "id": "3830973a",
   "metadata": {},
   "source": [
    "***Displaying Original Image***"
   ]
  },
  {
   "cell_type": "code",
   "execution_count": 3,
   "id": "c25c4fef",
   "metadata": {},
   "outputs": [
    {
     "ename": "error",
     "evalue": "OpenCV(4.6.0) D:\\a\\opencv-python\\opencv-python\\opencv\\modules\\highgui\\src\\window.cpp:1267: error: (-2:Unspecified error) The function is not implemented. Rebuild the library with Windows, GTK+ 2.x or Cocoa support. If you are on Ubuntu or Debian, install libgtk2.0-dev and pkg-config, then re-run cmake or configure script in function 'cvShowImage'\n",
     "output_type": "error",
     "traceback": [
      "\u001b[1;31m---------------------------------------------------------------------------\u001b[0m",
      "\u001b[1;31merror\u001b[0m                                     Traceback (most recent call last)",
      "\u001b[1;32m~\\AppData\\Local\\Temp\\ipykernel_4476\\4148949425.py\u001b[0m in \u001b[0;36m<cell line: 1>\u001b[1;34m()\u001b[0m\n\u001b[1;32m----> 1\u001b[1;33m \u001b[0mcv2\u001b[0m\u001b[1;33m.\u001b[0m\u001b[0mimshow\u001b[0m\u001b[1;33m(\u001b[0m\u001b[1;34m\"Original Image\"\u001b[0m\u001b[1;33m,\u001b[0m \u001b[0mimage\u001b[0m\u001b[1;33m)\u001b[0m\u001b[1;33m\u001b[0m\u001b[1;33m\u001b[0m\u001b[0m\n\u001b[0m\u001b[0;32m      2\u001b[0m \u001b[0mcv2\u001b[0m\u001b[1;33m.\u001b[0m\u001b[0mwaitKey\u001b[0m\u001b[1;33m(\u001b[0m\u001b[1;36m0\u001b[0m\u001b[1;33m)\u001b[0m\u001b[1;33m\u001b[0m\u001b[1;33m\u001b[0m\u001b[0m\n",
      "\u001b[1;31merror\u001b[0m: OpenCV(4.6.0) D:\\a\\opencv-python\\opencv-python\\opencv\\modules\\highgui\\src\\window.cpp:1267: error: (-2:Unspecified error) The function is not implemented. Rebuild the library with Windows, GTK+ 2.x or Cocoa support. If you are on Ubuntu or Debian, install libgtk2.0-dev and pkg-config, then re-run cmake or configure script in function 'cvShowImage'\n"
     ]
    }
   ],
   "source": [
    "cv2.imshow(\"Original Image\", image)\n",
    "cv2.waitKey(0)"
   ]
  },
  {
   "cell_type": "markdown",
   "id": "11726f3e",
   "metadata": {},
   "source": [
    "# Reading the black and white image"
   ]
  },
  {
   "cell_type": "code",
   "execution_count": null,
   "id": "5099cd5c",
   "metadata": {},
   "outputs": [],
   "source": [
    "b_and_w_image = cv2.cvtColor(image, cv2.COLOR_BGR2GRAY)"
   ]
  },
  {
   "cell_type": "markdown",
   "id": "f0a51baa",
   "metadata": {},
   "source": [
    "***Displaying Black And White Image***"
   ]
  },
  {
   "cell_type": "code",
   "execution_count": null,
   "id": "f310e2b9",
   "metadata": {},
   "outputs": [],
   "source": [
    "cv2.imshow(\"Black and White Image\", b_and_w_image)\n",
    "cv2.waitKey(0)"
   ]
  },
  {
   "cell_type": "markdown",
   "id": "f7b53da7",
   "metadata": {},
   "source": [
    "# Inverting the image"
   ]
  },
  {
   "cell_type": "code",
   "execution_count": null,
   "id": "18eed50f",
   "metadata": {},
   "outputs": [],
   "source": [
    "inverted_image = 255 - b_and_w_image"
   ]
  },
  {
   "cell_type": "markdown",
   "id": "1276b80f",
   "metadata": {},
   "source": [
    "***Displaying Inverted Image***"
   ]
  },
  {
   "cell_type": "code",
   "execution_count": null,
   "id": "4db69cf7",
   "metadata": {},
   "outputs": [],
   "source": [
    "cv2.imshow(\"Inverted Image\", inverted_image)\n",
    "cv2.waitKey()"
   ]
  },
  {
   "cell_type": "markdown",
   "id": "15c14596",
   "metadata": {},
   "source": [
    "# Blurring the image"
   ]
  },
  {
   "cell_type": "code",
   "execution_count": null,
   "id": "ae793cdd",
   "metadata": {},
   "outputs": [],
   "source": [
    "blurred = cv2.GaussianBlur(inverted_image, (21, 21), 0)"
   ]
  },
  {
   "cell_type": "markdown",
   "id": "f7c8e7e6",
   "metadata": {},
   "source": [
    "***Inverting the Blurred Image***"
   ]
  },
  {
   "cell_type": "code",
   "execution_count": null,
   "id": "cab65256",
   "metadata": {},
   "outputs": [],
   "source": [
    "inverted_blurred = 255 - blurred"
   ]
  },
  {
   "cell_type": "markdown",
   "id": "847d8fc9",
   "metadata": {},
   "source": [
    "# Creating the Pencil Sketch image"
   ]
  },
  {
   "cell_type": "code",
   "execution_count": null,
   "id": "45199f2d",
   "metadata": {},
   "outputs": [],
   "source": [
    "pencil_sketch = cv2.divide(b_and_w_image, inverted_blurred, scale=256.0)"
   ]
  },
  {
   "cell_type": "markdown",
   "id": "43c23cef",
   "metadata": {},
   "source": [
    "***Displaying Sketch Image***"
   ]
  },
  {
   "cell_type": "code",
   "execution_count": null,
   "id": "47cb6bcc",
   "metadata": {},
   "outputs": [],
   "source": [
    "cv2.imshow(\"Sketch Image\", pencil_sketch)\n",
    "cv2.waitKey(0)"
   ]
  },
  {
   "cell_type": "markdown",
   "id": "455d5af7",
   "metadata": {},
   "source": [
    "# Displaying Original Image"
   ]
  },
  {
   "cell_type": "code",
   "execution_count": null,
   "id": "6d2c87e4",
   "metadata": {},
   "outputs": [],
   "source": [
    "cv2.imshow(\"Original Image\", image)"
   ]
  },
  {
   "cell_type": "markdown",
   "id": "ced22922",
   "metadata": {},
   "source": [
    "# Displaying Sketch Image"
   ]
  },
  {
   "cell_type": "code",
   "execution_count": null,
   "id": "f0137e52",
   "metadata": {},
   "outputs": [],
   "source": [
    "cv2.imshow(\"Pencil Sketch Image\", pencil_sketch)\n",
    "cv2.waitKey(0)"
   ]
  },
  {
   "cell_type": "code",
   "execution_count": null,
   "id": "80fefbb3-cae2-402e-a1d2-5df55d6713fa",
   "metadata": {},
   "outputs": [],
   "source": []
  }
 ],
 "metadata": {
  "kernelspec": {
   "display_name": "Python 3 (ipykernel)",
   "language": "python",
   "name": "python3"
  },
  "language_info": {
   "codemirror_mode": {
    "name": "ipython",
    "version": 3
   },
   "file_extension": ".py",
   "mimetype": "text/x-python",
   "name": "python",
   "nbconvert_exporter": "python",
   "pygments_lexer": "ipython3",
   "version": "3.8.3"
  }
 },
 "nbformat": 4,
 "nbformat_minor": 5
}
