{
 "cells": [
  {
   "cell_type": "markdown",
   "id": "6006203e",
   "metadata": {},
   "source": [
    "***Importing Libraries***"
   ]
  },
  {
   "cell_type": "code",
   "execution_count": 40,
   "id": "0ae1b54c",
   "metadata": {},
   "outputs": [],
   "source": [
    "import cv2"
   ]
  },
  {
   "cell_type": "markdown",
   "id": "546d61dd",
   "metadata": {},
   "source": [
    "# Reading the original image"
   ]
  },
  {
   "cell_type": "code",
   "execution_count": 41,
   "id": "c4361018",
   "metadata": {},
   "outputs": [],
   "source": [
    "image = cv2.imread('dog.jpg')"
   ]
  },
  {
   "cell_type": "markdown",
   "id": "3830973a",
   "metadata": {},
   "source": [
    "***Displaying Original Image***"
   ]
  },
  {
   "cell_type": "code",
   "execution_count": 42,
   "id": "c25c4fef",
   "metadata": {},
   "outputs": [
    {
     "data": {
      "text/plain": [
       "-1"
      ]
     },
     "execution_count": 42,
     "metadata": {},
     "output_type": "execute_result"
    }
   ],
   "source": [
    "cv2.imshow(\"Original Image\", image)\n",
    "cv2.waitKey(0)"
   ]
  },
  {
   "cell_type": "markdown",
   "id": "11726f3e",
   "metadata": {},
   "source": [
    "# Reading the black and white image"
   ]
  },
  {
   "cell_type": "code",
   "execution_count": 43,
   "id": "5099cd5c",
   "metadata": {},
   "outputs": [],
   "source": [
    "b_and_w_image = cv2.cvtColor(image, cv2.COLOR_BGR2GRAY)"
   ]
  },
  {
   "cell_type": "markdown",
   "id": "f0a51baa",
   "metadata": {},
   "source": [
    "***Displaying Black And White Image***"
   ]
  },
  {
   "cell_type": "code",
   "execution_count": 44,
   "id": "f310e2b9",
   "metadata": {},
   "outputs": [
    {
     "data": {
      "text/plain": [
       "-1"
      ]
     },
     "execution_count": 44,
     "metadata": {},
     "output_type": "execute_result"
    }
   ],
   "source": [
    "cv2.imshow(\"Black and White Image\", b_and_w_image)\n",
    "cv2.waitKey(0)"
   ]
  },
  {
   "cell_type": "markdown",
   "id": "f7b53da7",
   "metadata": {},
   "source": [
    "# Inverting the image"
   ]
  },
  {
   "cell_type": "code",
   "execution_count": 45,
   "id": "18eed50f",
   "metadata": {},
   "outputs": [],
   "source": [
    "inverted_image = 255 - b_and_w_image"
   ]
  },
  {
   "cell_type": "markdown",
   "id": "1276b80f",
   "metadata": {},
   "source": [
    "***Displaying Inverted Image***"
   ]
  },
  {
   "cell_type": "code",
   "execution_count": 46,
   "id": "4db69cf7",
   "metadata": {},
   "outputs": [
    {
     "data": {
      "text/plain": [
       "-1"
      ]
     },
     "execution_count": 46,
     "metadata": {},
     "output_type": "execute_result"
    }
   ],
   "source": [
    "cv2.imshow(\"Inverted Image\", inverted_image)\n",
    "cv2.waitKey()"
   ]
  },
  {
   "cell_type": "markdown",
   "id": "15c14596",
   "metadata": {},
   "source": [
    "# Blurring the image"
   ]
  },
  {
   "cell_type": "code",
   "execution_count": 47,
   "id": "ae793cdd",
   "metadata": {},
   "outputs": [],
   "source": [
    "blurred = cv2.GaussianBlur(inverted_image, (21, 21), 0)"
   ]
  },
  {
   "cell_type": "markdown",
   "id": "f7c8e7e6",
   "metadata": {},
   "source": [
    "***Inverting the Blurred Image***"
   ]
  },
  {
   "cell_type": "code",
   "execution_count": 48,
   "id": "cab65256",
   "metadata": {},
   "outputs": [],
   "source": [
    "inverted_blurred = 255 - blurred"
   ]
  },
  {
   "cell_type": "markdown",
   "id": "847d8fc9",
   "metadata": {},
   "source": [
    "# Creating the Pencil Sketch image"
   ]
  },
  {
   "cell_type": "code",
   "execution_count": 49,
   "id": "45199f2d",
   "metadata": {},
   "outputs": [],
   "source": [
    "pencil_sketch = cv2.divide(b_and_w_image, inverted_blurred, scale=256.0)"
   ]
  },
  {
   "cell_type": "markdown",
   "id": "43c23cef",
   "metadata": {},
   "source": [
    "***Displaying Sketch Image***"
   ]
  },
  {
   "cell_type": "code",
   "execution_count": 50,
   "id": "47cb6bcc",
   "metadata": {},
   "outputs": [
    {
     "data": {
      "text/plain": [
       "-1"
      ]
     },
     "execution_count": 50,
     "metadata": {},
     "output_type": "execute_result"
    }
   ],
   "source": [
    "cv2.imshow(\"Sketch Image\", pencil_sketch)\n",
    "cv2.waitKey(0)"
   ]
  },
  {
   "cell_type": "markdown",
   "id": "455d5af7",
   "metadata": {},
   "source": [
    "# Displaying Original Image"
   ]
  },
  {
   "cell_type": "code",
   "execution_count": 51,
   "id": "6d2c87e4",
   "metadata": {},
   "outputs": [],
   "source": [
    "cv2.imshow(\"Original Image\", image)"
   ]
  },
  {
   "cell_type": "markdown",
   "id": "ced22922",
   "metadata": {},
   "source": [
    "# Displaying Sketch Image"
   ]
  },
  {
   "cell_type": "code",
   "execution_count": null,
   "id": "f0137e52",
   "metadata": {},
   "outputs": [],
   "source": [
    "cv2.imshow(\"Pencil Sketch Image\", pencil_sketch)\n",
    "cv2.waitKey(0)"
   ]
  }
 ],
 "metadata": {
  "kernelspec": {
   "display_name": "Python 3 (ipykernel)",
   "language": "python",
   "name": "python3"
  },
  "language_info": {
   "codemirror_mode": {
    "name": "ipython",
    "version": 3
   },
   "file_extension": ".py",
   "mimetype": "text/x-python",
   "name": "python",
   "nbconvert_exporter": "python",
   "pygments_lexer": "ipython3",
   "version": "3.8.3"
  }
 },
 "nbformat": 4,
 "nbformat_minor": 5
}
