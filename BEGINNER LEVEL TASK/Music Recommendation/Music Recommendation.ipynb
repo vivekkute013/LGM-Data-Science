{
 "cells": [
  {
   "cell_type": "code",
   "execution_count": 1,
   "id": "fe9aa306-61fd-4ac7-98f7-24d4408bec23",
   "metadata": {},
   "outputs": [],
   "source": [
    "import pandas as pd\n",
    "import numpy as np\n",
    "pd.set_option('display.max_columns', None)\n",
    "import warnings\n",
    "warnings.filterwarnings('ignore')"
   ]
  },
  {
   "cell_type": "code",
   "execution_count": 2,
   "id": "dfb133b3-ffca-47e7-b67f-fc5d87cc0d51",
   "metadata": {},
   "outputs": [],
   "source": [
    "import string\n",
    "import math\n",
    "import missingno as msno\n",
    "\n",
    "import matplotlib.pyplot as plt\n",
    "import seaborn as sns\n",
    "%matplotlib inline"
   ]
  },
  {
   "cell_type": "code",
   "execution_count": 3,
   "id": "83c4f9f0-7023-478c-bee0-318abb664547",
   "metadata": {},
   "outputs": [],
   "source": [
    "from sklearn.model_selection import train_test_split, GridSearchCV, RandomizedSearchCV, StratifiedKFold\n",
    "from sklearn.metrics import roc_curve, roc_auc_score, accuracy_score, confusion_matrix, classification_report\n",
    "from sklearn.preprocessing import LabelEncoder, OneHotEncoder, MinMaxScaler\n",
    "from sklearn.ensemble import RandomForestClassifier, ExtraTreesClassifier\n",
    "\n",
    "import lightgbm as lgbm\n",
    "import xgboost as xgb\n",
    "import catboost as cb"
   ]
  },
  {
   "cell_type": "code",
   "execution_count": 4,
   "id": "136eb297-2ab7-4bb9-b5b2-c463a005c176",
   "metadata": {},
   "outputs": [
    {
     "ename": "ModuleNotFoundError",
     "evalue": "No module named 'py7zr'",
     "output_type": "error",
     "traceback": [
      "\u001b[1;31m---------------------------------------------------------------------------\u001b[0m",
      "\u001b[1;31mModuleNotFoundError\u001b[0m                       Traceback (most recent call last)",
      "\u001b[1;32m~\\AppData\\Local\\Temp\\ipykernel_15684\\1998297203.py\u001b[0m in \u001b[0;36m<cell line: 1>\u001b[1;34m()\u001b[0m\n\u001b[1;32m----> 1\u001b[1;33m \u001b[1;32mimport\u001b[0m \u001b[0mpy7zr\u001b[0m\u001b[1;33m\u001b[0m\u001b[1;33m\u001b[0m\u001b[0m\n\u001b[0m",
      "\u001b[1;31mModuleNotFoundError\u001b[0m: No module named 'py7zr'"
     ]
    }
   ],
   "source": [
    "import py7zr"
   ]
  },
  {
   "cell_type": "code",
   "execution_count": null,
   "id": "f47781a5-ba8a-4e38-a343-747976ed7f2d",
   "metadata": {},
   "outputs": [],
   "source": [
    "archive1=py7zr.SevenZipFile('songs.csv.7z', mode='r')\n",
    "archive1.extractall(path=\"/kaggle/temp\")\n",
    "\n",
    "archive2=py7zr.SevenZipFile('song_extra_info.csv.7z', mode='r')\n",
    "archive2.extractall(path=\"/kaggle/temp\")\n",
    "\n",
    "archive3=py7zr.SevenZipFile('members.csv.7z', mode='r')\n",
    "archive3.extractall(path=\"/kaggle/temp\")\n",
    "\n",
    "archive4=py7zr.SevenZipFile('test.csv.7z', mode='r')\n",
    "archive4.extractall(path=\"/kaggle/temp\")\n",
    "\n",
    "archive5=py7zr.SevenZipFile('train.csv.7z', mode='r')\n",
    "archive5.extractall(path=\"/kaggle/temp\")"
   ]
  },
  {
   "cell_type": "code",
   "execution_count": null,
   "id": "341185ae-7789-424a-a17b-9acd5a59f9bb",
   "metadata": {},
   "outputs": [],
   "source": [
    "import os\n",
    "os.listdir('/kaggle/temp/')"
   ]
  },
  {
   "cell_type": "code",
   "execution_count": null,
   "id": "30f07a05-fe4a-49b0-813a-b65cd878f65b",
   "metadata": {},
   "outputs": [],
   "source": [
    "songs_df = pd.read_csv(\"/kaggle/temp/songs.csv\")\n",
    "song_extra_df = pd.read_csv('/kaggle/temp/song_extra_info.csv')\n",
    "members_df = pd.read_csv(\"/kaggle/temp/members.csv\")\n",
    "train_df = pd.read_csv(\"/kaggle/temp/train.csv\", nrows = 100000)"
   ]
  },
  {
   "cell_type": "code",
   "execution_count": null,
   "id": "e652bf39-6e43-469c-9872-70f7e39d5974",
   "metadata": {},
   "outputs": [],
   "source": [
    "songs_df.head()"
   ]
  },
  {
   "cell_type": "code",
   "execution_count": null,
   "id": "51908287-641d-419e-b9ab-bdddc0b23f73",
   "metadata": {},
   "outputs": [],
   "source": [
    "train_df.head()"
   ]
  },
  {
   "cell_type": "code",
   "execution_count": null,
   "id": "15af3dbd-5821-4172-92dc-bcd0161bc661",
   "metadata": {},
   "outputs": [],
   "source": [
    "song_extra_df.head()"
   ]
  },
  {
   "cell_type": "code",
   "execution_count": null,
   "id": "2ef486b2-acfb-4576-bc57-6f2372610230",
   "metadata": {},
   "outputs": [],
   "source": [
    "members_df.head()"
   ]
  },
  {
   "cell_type": "code",
   "execution_count": null,
   "id": "a8195ba1-546d-4927-81f4-73916070bee4",
   "metadata": {},
   "outputs": [],
   "source": [
    "merge_1 = pd.merge(train_df, songs_df, on = 'song_id', how = 'left')\n",
    "merge_2 = pd.merge(merge_1, song_extra_df, on = 'song_id', how = 'left')\n",
    "songs = pd.merge(merge_2, members_df, on = 'msno', how = 'left')\n",
    "del train_df, songs_df, song_extra_df, members_df, merge_1, merge_2\n",
    "songs.head()"
   ]
  },
  {
   "cell_type": "code",
   "execution_count": null,
   "id": "88780518-cbb1-4afe-8110-d0294b564e53",
   "metadata": {},
   "outputs": [],
   "source": [
    "songs.info()"
   ]
  },
  {
   "cell_type": "code",
   "execution_count": null,
   "id": "7a76dcd3-ee38-4c0e-b6f8-47d15fbf730e",
   "metadata": {},
   "outputs": [],
   "source": [
    "songs.shape"
   ]
  },
  {
   "cell_type": "code",
   "execution_count": null,
   "id": "a2d2ae95-9e97-4ffe-b3b2-a847642d14eb",
   "metadata": {},
   "outputs": [],
   "source": [
    "songs.isnull().sum()"
   ]
  },
  {
   "cell_type": "code",
   "execution_count": null,
   "id": "fedd02ff-fe3b-4065-9b95-f3771a3517ad",
   "metadata": {},
   "outputs": [],
   "source": [
    "msno.matrix(songs)"
   ]
  },
  {
   "cell_type": "code",
   "execution_count": null,
   "id": "0bb88e47-b3f5-4ad7-a95d-dea957974a03",
   "metadata": {},
   "outputs": [],
   "source": [
    "for i in songs.select_dtypes(include=['object']).columns:\n",
    "    songs[i][songs[i].isnull()] = 'unknown'\n",
    "songs.fillna(value = 0).tail()"
   ]
  },
  {
   "cell_type": "code",
   "execution_count": null,
   "id": "52aa6648-fe17-4144-b0dc-6199101e32cf",
   "metadata": {},
   "outputs": [],
   "source": [
    "msno.matrix(songs)"
   ]
  },
  {
   "cell_type": "code",
   "execution_count": null,
   "id": "2106da9e-7345-4f54-918c-45ac977dad40",
   "metadata": {},
   "outputs": [],
   "source": [
    "# registration_init_time\n",
    "songs.registration_init_time = pd.to_datetime(songs.registration_init_time, format='%Y%m%d', errors='ignore')\n",
    "songs['registration_init_time_year'] = songs['registration_init_time'].dt.year\n",
    "songs['registration_init_time_month'] = songs['registration_init_time'].dt.month\n",
    "songs['registration_init_time_day'] = songs['registration_init_time'].dt.day\n",
    "\n",
    "# expiration_date\n",
    "songs.expiration_date = pd.to_datetime(songs.expiration_date,  format='%Y%m%d', errors='ignore')\n",
    "songs['expiration_date_year'] = songs['expiration_date'].dt.year\n",
    "songs['expiration_date_month'] = songs['expiration_date'].dt.month\n",
    "songs['expiration_date_day'] = songs['expiration_date'].dt.day"
   ]
  },
  {
   "cell_type": "code",
   "execution_count": null,
   "id": "bbdc49af-a260-43d9-aa9d-2b18f5cc7664",
   "metadata": {},
   "outputs": [],
   "source": [
    "songs.head()"
   ]
  },
  {
   "cell_type": "code",
   "execution_count": null,
   "id": "1e56c541-14f1-4833-937b-c4226df3f77c",
   "metadata": {},
   "outputs": [],
   "source": [
    "label_encoder = LabelEncoder()\n",
    "one_hot = OneHotEncoder()\n",
    "\n",
    "for i in songs.columns :\n",
    "    songs[i] = label_encoder.fit_transform(songs[i])"
   ]
  },
  {
   "cell_type": "code",
   "execution_count": null,
   "id": "2abddad6-77c3-44b6-b9f9-14b5db274c9c",
   "metadata": {},
   "outputs": [],
   "source": [
    "songs.head()"
   ]
  },
  {
   "cell_type": "code",
   "execution_count": null,
   "id": "4330bafc-9e02-40ad-b04e-acaa5bd8737c",
   "metadata": {},
   "outputs": [],
   "source": [
    "# Сorrelation matrix\n",
    "plt.figure(figsize=[15,10])\n",
    "sns.heatmap(songs.corr()) #annot = True\n",
    "plt.show()"
   ]
  },
  {
   "cell_type": "code",
   "execution_count": null,
   "id": "bf8a8774-cce6-4b92-afd8-4a924efaa3dc",
   "metadata": {},
   "outputs": [],
   "source": [
    "songs.columns"
   ]
  },
  {
   "cell_type": "code",
   "execution_count": null,
   "id": "b6b01d4f-3235-4e14-9bc0-f1a912648d38",
   "metadata": {},
   "outputs": [],
   "source": [
    "X = songs.drop('target', axis = 1)\n",
    "y = songs['target']\n",
    "X_train, X_val, y_train, y_val = train_test_split(X, y, test_size = 0.25, random_state = 0)"
   ]
  },
  {
   "cell_type": "code",
   "execution_count": null,
   "id": "5ec5b789-2dd5-43d2-8882-d60e0511d10d",
   "metadata": {},
   "outputs": [],
   "source": [
    "def model_with(model_name, X_train, X_val, y_train, y_val) :\n",
    "    print(\"==================================================\")\n",
    "    print(\"Modeling with :\", model_name)\n",
    "    print()\n",
    "        \n",
    "    if model_name == \"Random Forest Classifier\" :\n",
    "        model = RandomForestClassifier(\n",
    "            n_estimators=1000, \n",
    "        )\n",
    "    elif model_name == \"Extra Trees Classifier\" :\n",
    "        model = ExtraTreesClassifier(\n",
    "            n_estimators=1000, \n",
    "        )\n",
    "    elif model_name == \"LightGBM Classifier\" :\n",
    "        model = lgbm.LGBMClassifier(\n",
    "            n_estimators=1000, \n",
    "        )\n",
    "    elif model_name == \"XGBoost Classifier\" :\n",
    "        model = xgb.XGBClassifier(\n",
    "            n_estimators=1000, \n",
    "        )\n",
    "    elif model_name == \"CatBoost Classifier\" :\n",
    "        model = cb.CatBoostClassifier(\n",
    "            n_estimators=1000, \n",
    "            verbose=0\n",
    "        )\n",
    "    else :\n",
    "        print(\"Model not found in function.\")\n",
    "        \n",
    "    model.fit(X_train, y_train)\n",
    "    \n",
    "    val_pred = model.predict(X_val)\n",
    "    print(classification_report(y_val, val_pred))\n",
    "    print()\n",
    "    print(\"Accuracy :\", accuracy_score(y_val, val_pred))\n",
    "    print(\"ROC :\", roc_auc_score(y_val, val_pred))\n",
    "    \n",
    "    print(\"==================================================\")\n",
    "    print()"
   ]
  },
  {
   "cell_type": "code",
   "execution_count": null,
   "id": "01f90a01-2439-465a-b5d6-542801a9600b",
   "metadata": {},
   "outputs": [],
   "source": [
    "models = [\"Random Forest Classifier\", \"Extra Trees Classifier\", \"LightGBM Classifier\", \"XGBoost Classifier\", \"CatBoost Classifier\"]\n",
    "for i in models :\n",
    "    model_with(i, X_train, X_val, y_train, y_val)"
   ]
  },
  {
   "cell_type": "code",
   "execution_count": null,
   "id": "d7412566-6c03-4e6f-b625-c8125af6e385",
   "metadata": {},
   "outputs": [],
   "source": [
    "rf = RandomForestClassifier(\n",
    "        n_estimators = 1000,\n",
    "        class_weight={0: 1.0050505050505052, 1: 0.9949494949494948}\n",
    ")\n",
    "rf.fit(X_train, y_train)"
   ]
  },
  {
   "cell_type": "code",
   "execution_count": null,
   "id": "0c19cb79-2d63-4226-a925-f91551f207c3",
   "metadata": {},
   "outputs": [],
   "source": [
    "val_pred = rf.predict(X_val)\n",
    "print(\"Accuracy :\", accuracy_score(y_val, val_pred))"
   ]
  },
  {
   "cell_type": "code",
   "execution_count": null,
   "id": "0361ba18-0b14-443a-b999-84ba7313bdad",
   "metadata": {},
   "outputs": [],
   "source": [
    "# without classweights\n",
    "rf = RandomForestClassifier(\n",
    "        n_estimators = 1000\n",
    ")\n",
    "rf.fit(X_train, y_train)\n",
    "val_pred = rf.predict(X_val)\n",
    "print(\"Accuracy :\", accuracy_score(y_val, val_pred))"
   ]
  },
  {
   "cell_type": "code",
   "execution_count": null,
   "id": "97683d27-6aec-4933-9cd4-2e612e66f90c",
   "metadata": {},
   "outputs": [],
   "source": []
  }
 ],
 "metadata": {
  "kernelspec": {
   "display_name": "Python 3 (ipykernel)",
   "language": "python",
   "name": "python3"
  },
  "language_info": {
   "codemirror_mode": {
    "name": "ipython",
    "version": 3
   },
   "file_extension": ".py",
   "mimetype": "text/x-python",
   "name": "python",
   "nbconvert_exporter": "python",
   "pygments_lexer": "ipython3",
   "version": "3.8.3"
  }
 },
 "nbformat": 4,
 "nbformat_minor": 5
}
